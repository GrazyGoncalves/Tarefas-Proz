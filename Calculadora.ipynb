{
  "nbformat": 4,
  "nbformat_minor": 0,
  "metadata": {
    "colab": {
      "provenance": [],
      "authorship_tag": "ABX9TyOaeI5stlJIS6EgbIJHRU95",
      "include_colab_link": true
    },
    "kernelspec": {
      "name": "python3",
      "display_name": "Python 3"
    },
    "language_info": {
      "name": "python"
    }
  },
  "cells": [
    {
      "cell_type": "markdown",
      "metadata": {
        "id": "view-in-github",
        "colab_type": "text"
      },
      "source": [
        "<a href=\"https://colab.research.google.com/github/GrazyGoncalves/Tarefas-Proz/blob/main/Calculadora.ipynb\" target=\"_parent\"><img src=\"https://colab.research.google.com/assets/colab-badge.svg\" alt=\"Open In Colab\"/></a>"
      ]
    },
    {
      "cell_type": "code",
      "execution_count": null,
      "metadata": {
        "colab": {
          "base_uri": "https://localhost:8080/"
        },
        "id": "1vH9Ypu5C_Pf",
        "outputId": "895e2989-1d92-449f-b380-2fd4e5353545"
      },
      "outputs": [
        {
          "output_type": "stream",
          "name": "stdout",
          "text": [
            "## Calculadora ##\n",
            "1 = Somar\n",
            "2 = Subtrair\n",
            "3 = Multiplicar\n",
            "4 = Dividir\n"
          ]
        }
      ],
      "source": [
        "##Calculadora##\n",
        "\n",
        "def soma(num1,num2):\n",
        "    return num1 + num2\n",
        "\n",
        "def subtracao(num1, num2):\n",
        "    return num1 - num2\n",
        "    \n",
        "def multiplicacao(num1, num2):\n",
        "    return num1 * num2\n",
        "\n",
        "def divisao(num1, num2):\n",
        "    return num1 / num2\n",
        "\n",
        "print(\"## Calculadora ##\")\n",
        "\n",
        "print(\"1 = Somar\")\n",
        "\n",
        "print(\"2 = Subtrair\")\n",
        "\n",
        "print(\"3 = Multiplicar\")\n",
        "\n",
        "print(\"4 = Dividir\")\n",
        "\n",
        "\n",
        "operacao = input(\"Escolha a operação: \")\n",
        "\n",
        "num1 = float(input(\"Digite um número: \"))\n",
        "\n",
        "num2 = float(input(\"Digite outro número: \"))\n",
        "\n",
        "if operacao == \"1\":\n",
        "    resultado = soma(num1, num2)\n",
        "    print(\"O resultado da operação é: \", resultado)\n",
        "\n",
        "elif operacao == \"2\":\n",
        "    resultado = subtracao(num1, num2)\n",
        "    print(\"O resultado da operação é: \", resultado)\n",
        "\n",
        "elif operacao == \"3\":\n",
        "    resultado = multiplicacao(num1, num2)\n",
        "    print(\"O resultado da operação é: \", resultado)\n",
        "\n",
        "elif operacao == \"4\":\n",
        "    resultado = divisao(num1, num2)\n",
        "    print(\"O resultado da operação é: \", resultado)\n",
        "\n",
        "else:\n",
        "    print(\"Digite uma operação válida!\")\n",
        " \n",
        "\n"
      ]
    }
  ]
}